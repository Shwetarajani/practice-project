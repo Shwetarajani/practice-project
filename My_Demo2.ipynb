{
 "cells": [
  {
   "cell_type": "code",
   "execution_count": 1,
   "id": "7cdcdf4e",
   "metadata": {},
   "outputs": [],
   "source": [
    "import os #os giv e information about operating system"
   ]
  },
  {
   "cell_type": "code",
   "execution_count": 2,
   "id": "4efa4114",
   "metadata": {},
   "outputs": [
    {
     "data": {
      "text/plain": [
       "'C:\\\\Users\\\\youra'"
      ]
     },
     "execution_count": 2,
     "metadata": {},
     "output_type": "execute_result"
    }
   ],
   "source": [
    "os.getcwd()#current working directory"
   ]
  },
  {
   "cell_type": "code",
   "execution_count": 3,
   "id": "2e51187a",
   "metadata": {},
   "outputs": [],
   "source": [
    "import pandas as pd"
   ]
  },
  {
   "cell_type": "code",
   "execution_count": null,
   "id": "39053a9e",
   "metadata": {},
   "outputs": [],
   "source": [
    "data4= pd.read_excel(r'C:\\Users\\\\youra\\OneDrive\\\\Desktop\\DataTrained\\27-28nov\\My_data1.xlsx')"
   ]
  }
 ],
 "metadata": {
  "kernelspec": {
   "display_name": "Python 3",
   "language": "python",
   "name": "python3"
  },
  "language_info": {
   "codemirror_mode": {
    "name": "ipython",
    "version": 3
   },
   "file_extension": ".py",
   "mimetype": "text/x-python",
   "name": "python",
   "nbconvert_exporter": "python",
   "pygments_lexer": "ipython3",
   "version": "3.8.8"
  }
 },
 "nbformat": 4,
 "nbformat_minor": 5
}
